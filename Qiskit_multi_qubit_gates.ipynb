{
  "cells": [
    {
      "cell_type": "markdown",
      "source": [
        "# **22MIS0137 GUNASIYA**"
      ],
      "metadata": {
        "id": "5F7cFjRlSFGd"
      },
      "id": "5F7cFjRlSFGd"
    },
    {
      "cell_type": "markdown",
      "source": [
        "# **Base Circuit**"
      ],
      "metadata": {
        "id": "z3PfskuLSLMO"
      },
      "id": "z3PfskuLSLMO"
    },
    {
      "cell_type": "code",
      "metadata": {
        "id": "NOQIWRacv-y3",
        "colab": {
          "base_uri": "https://localhost:8080/"
        },
        "outputId": "1bb9e9e7-7dcc-4ba7-e9b4-ee0f0d0e37a7"
      },
      "source": [
        "!pip install qiskit --quiet\n",
        "!pip install qiskit-aer --quiet\n",
        "\n",
        "from qiskit import QuantumCircuit, transpile\n",
        "from qiskit_aer import AerSimulator\n",
        "\n",
        "# Initialize simulator\n",
        "sim = AerSimulator()\n",
        "\n",
        "# Create a 2-qubit circuit with 2 classical bits\n",
        "qc = QuantumCircuit(2, 2)\n",
        "\n",
        "# --- Apply multi-qubit gates ---\n",
        "qc.h(0)        # Hadamard on qubit 0\n",
        "qc.cx(0, 1)    # CNOT: control=0, target=1\n",
        "qc.cz(0, 1)    # Controlled-Z: control=0, target=1\n",
        "qc.swap(0, 1)  # Swap qubits 0 and 1\n",
        "\n",
        "# Measure both qubits\n",
        "qc.measure_all()\n",
        "\n",
        "# Display circuit\n",
        "print(\"Quantum Circuit:\")\n",
        "print(qc.draw())\n",
        "\n",
        "# --- Run simulation ---\n",
        "compiled = transpile(qc, sim)\n",
        "result = sim.run(compiled, shots=1024).result()\n",
        "\n",
        "# --- Display results ---\n",
        "counts = result.get_counts()\n",
        "print(\"\\nMeasurement Counts:\", counts)\n"
      ],
      "execution_count": 5,
      "outputs": [
        {
          "output_type": "stream",
          "name": "stdout",
          "text": [
            "Quantum Circuit:\n",
            "        ┌───┐            ░ ┌─┐   \n",
            "   q_0: ┤ H ├──■───■──X──░─┤M├───\n",
            "        └───┘┌─┴─┐ │  │  ░ └╥┘┌─┐\n",
            "   q_1: ─────┤ X ├─■──X──░──╫─┤M├\n",
            "             └───┘       ░  ║ └╥┘\n",
            "   c: 2/════════════════════╬══╬═\n",
            "                            ║  ║ \n",
            "meas: 2/════════════════════╩══╩═\n",
            "                            0  1 \n",
            "\n",
            "Measurement Counts: {'11 00': 543, '00 00': 481}\n"
          ]
        }
      ],
      "id": "NOQIWRacv-y3"
    },
    {
      "cell_type": "markdown",
      "metadata": {
        "id": "B_QEU5O6v-y4"
      },
      "source": [
        "# **Task 1: Control/Target Variation**\n",
        "\n"
      ],
      "id": "B_QEU5O6v-y4"
    },
    {
      "cell_type": "code",
      "metadata": {
        "id": "mPhcfNBxv-y5",
        "colab": {
          "base_uri": "https://localhost:8080/"
        },
        "outputId": "95039e62-158b-44fb-b437-fdad63eb61be"
      },
      "source": [
        "qc_var = QuantumCircuit(2, 2)\n",
        "qc_var.h(1)        # Apply H to qubit 1\n",
        "qc_var.cx(1, 0)    # Control = 1, Target = 0\n",
        "qc_var.cz(1, 0)    # Control = 1, Target = 0\n",
        "qc_var.swap(0, 1)\n",
        "qc_var.measure_all()\n",
        "\n",
        "compiled = transpile(qc_var, sim)\n",
        "counts_var = sim.run(compiled, shots=1024).result().get_counts()\n",
        "print(\"\\nCounts (Control/Target swapped):\", counts_var)\n",
        "print(\"==========================\")\n",
        "print(\"The distribution will shift — because which qubit controls the flip or phase affects entanglement and correlations.\")\n"
      ],
      "execution_count": 2,
      "outputs": [
        {
          "output_type": "stream",
          "name": "stdout",
          "text": [
            "\n",
            "Counts (Control/Target swapped): {'00 00': 510, '11 00': 514}\n",
            "==========================\n",
            "The distribution will shift — because which qubit controls the flip or phase affects entanglement and correlations.\n"
          ]
        }
      ],
      "id": "mPhcfNBxv-y5"
    },
    {
      "cell_type": "markdown",
      "source": [
        "# **Task 2: Gate Removal**"
      ],
      "metadata": {
        "id": "eQ-x5QvwKge2"
      },
      "id": "eQ-x5QvwKge2"
    },
    {
      "cell_type": "code",
      "source": [
        "qc_no_swap = QuantumCircuit(2, 2)\n",
        "qc_no_swap.h(0)\n",
        "qc_no_swap.cx(0, 1)\n",
        "qc_no_swap.cz(0, 1)\n",
        "qc_no_swap.measure_all()\n",
        "\n",
        "compiled = transpile(qc_no_swap, sim)\n",
        "counts_no_swap = sim.run(compiled, shots=1024).result().get_counts()\n",
        "print(\"\\nCounts (Without SWAP):\", counts_no_swap)\n",
        "print(\"===============================\")\n",
        "print(\"The qubits remain entangled but not exchanged — the probability pattern will differ slightly.\")\n"
      ],
      "metadata": {
        "colab": {
          "base_uri": "https://localhost:8080/"
        },
        "id": "HdE3TwqCKjQg",
        "outputId": "1f71b5bd-0ca4-4a13-faf8-0c9815c3e91e"
      },
      "id": "HdE3TwqCKjQg",
      "execution_count": 3,
      "outputs": [
        {
          "output_type": "stream",
          "name": "stdout",
          "text": [
            "\n",
            "Counts (Without SWAP): {'11 00': 538, '00 00': 486}\n",
            "===============================\n",
            "The qubits remain entangled but not exchanged — the probability pattern will differ slightly.\n"
          ]
        }
      ]
    },
    {
      "cell_type": "markdown",
      "source": [
        "# **Task 3: Add Another Hadamard**"
      ],
      "metadata": {
        "id": "NlrXB8uCKqOz"
      },
      "id": "NlrXB8uCKqOz"
    },
    {
      "cell_type": "code",
      "source": [
        "qc_extra_h = QuantumCircuit(2, 2)\n",
        "qc_extra_h.h(0)\n",
        "qc_extra_h.h(1)     # New Hadamard on qubit 1\n",
        "qc_extra_h.cx(0, 1)\n",
        "qc_extra_h.cz(0, 1)\n",
        "qc_extra_h.swap(0, 1)\n",
        "qc_extra_h.measure_all()\n",
        "\n",
        "compiled = transpile(qc_extra_h, sim)\n",
        "counts_extra_h = sim.run(compiled, shots=1024).result().get_counts()\n",
        "print(\"\\nCounts (With extra H on qubit 1):\", counts_extra_h)\n",
        "print(\"============================\")\n",
        "print(\"Adding a Hadamard on the second qubit puts it into superposition too, altering how CNOT and CZ interact — leading to new probability combinations.\")\n"
      ],
      "metadata": {
        "colab": {
          "base_uri": "https://localhost:8080/"
        },
        "id": "Sr_r7BZsKswu",
        "outputId": "18beebd7-5c05-401f-9096-76f58546a3ba"
      },
      "id": "Sr_r7BZsKswu",
      "execution_count": 4,
      "outputs": [
        {
          "output_type": "stream",
          "name": "stdout",
          "text": [
            "\n",
            "Counts (With extra H on qubit 1): {'01 00': 249, '10 00': 257, '11 00': 263, '00 00': 255}\n",
            "============================\n",
            "Adding a Hadamard on the second qubit puts it into superposition too, altering how CNOT and CZ interact — leading to new probability combinations.\n"
          ]
        }
      ]
    }
  ],
  "metadata": {
    "kernelspec": {
      "display_name": "Python 3",
      "language": "python",
      "name": "python3"
    },
    "language_info": {
      "name": "python",
      "version": "3.10"
    },
    "colab": {
      "provenance": []
    }
  },
  "nbformat": 4,
  "nbformat_minor": 5
}
